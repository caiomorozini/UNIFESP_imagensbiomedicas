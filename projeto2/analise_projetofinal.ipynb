{
 "cells": [
  {
   "cell_type": "markdown",
   "metadata": {},
   "source": [
    "## Este código se refere ao Projeto Final da disciplina de Imagens Biomédicas, disciplina oferecida pela UNIFESP.\n"
   ]
  },
  {
   "cell_type": "markdown",
   "metadata": {},
   "source": [
    "Um Instituto renomado no Brasil faz todos os tipos de investigações,\n",
    "intervenções, tratamentos e pesquisas relacionados ao coração. Dentre\n",
    "eles, estão as investigações das coronárias, estas investigações são\n",
    "realizadas com um equipamento chamado Ultrassom Intravascular (IVUS).\n",
    "Este equipamento adquire imagens de seções transversais da coronária\n",
    "pela inserção e movimento de retirada de um cateter (Figura). Contudo,\n",
    "além de não fornecer informações objetivas, como dimensões, este\n",
    "equipamento fornece centenas de imagens de uma mesma seção, o que\n",
    "dificulta muito a análise por segmentação manual.\n",
    "O pesquisador de cardiologia, quem usa este equipamento para\n",
    "orientar doutorandos em medicina, pediu a criação de um aplicativo para\n",
    "esta tarefa. O objetivo é fazer a segmentação e cálculo da área da borda\n",
    "media-adventícia (parede externa do vaso) em imagens de IVUS."
   ]
  },
  {
   "cell_type": "markdown",
   "metadata": {},
   "source": [
    "- Elaborar um método automático ou semiautomático, que faça a\n",
    "segmentação do lúmen em imagens de IVUS(Figura Abaixo em azul).\n",
    "Divida o método em 3 partes, Pré-processamento, Extração de\n",
    "Características e Pós-processamento.\n",
    "- Avaliar este método de acordo com a metodologia de VP(%), FP(%),\n",
    "FN(%). Adicionalmente, usar as métricas Overlap Dice(OD(%)) e\n",
    "Overlap Ratio(OR(%)) descritas abaixo. Para a avaliação, usar 20\n",
    "imagens de IVUS com seus respectivos GoldStandads. Img0.pgm até\n",
    "img19.pgm com gsmab0.pgm até gsmab19.pgm.\n",
    "- Resultados Projeto → A nota referente aos resultados do trabalho\n",
    "será equivalente ao OR (%)"
   ]
  },
  {
   "cell_type": "code",
   "execution_count": 9,
   "metadata": {},
   "outputs": [],
   "source": [
    "import cv2\n",
    "import scipy\n",
    "import skimage\n",
    "import scipy.signal\n",
    "import numpy as np\n",
    "import matplotlib.pyplot as plt\n",
    "from mpl_toolkits.axes_grid1 import ImageGrid\n",
    "import os"
   ]
  },
  {
   "cell_type": "code",
   "execution_count": 32,
   "metadata": {},
   "outputs": [
    {
     "ename": "TypeError",
     "evalue": "join() argument must be str, bytes, or os.PathLike object, not 'list'",
     "output_type": "error",
     "traceback": [
      "\u001b[1;31m---------------------------------------------------------------------------\u001b[0m",
      "\u001b[1;31mTypeError\u001b[0m                                 Traceback (most recent call last)",
      "\u001b[1;32mc:\\Users\\caiom\\Documents\\GitHub\\UNIFESP_imagensbiomedicas\\projeto2\\analise_projetofinal.ipynb Célula: 5\u001b[0m in \u001b[0;36m<cell line: 4>\u001b[1;34m()\u001b[0m\n\u001b[0;32m      <a href='vscode-notebook-cell:/c%3A/Users/caiom/Documents/GitHub/UNIFESP_imagensbiomedicas/projeto2/analise_projetofinal.ipynb#ch0000004?line=4'>5</a>\u001b[0m \u001b[39mfor\u001b[39;00m arquivo \u001b[39min\u001b[39;00m file:\n\u001b[0;32m      <a href='vscode-notebook-cell:/c%3A/Users/caiom/Documents/GitHub/UNIFESP_imagensbiomedicas/projeto2/analise_projetofinal.ipynb#ch0000004?line=5'>6</a>\u001b[0m     \u001b[39mif\u001b[39;00m \u001b[39m'\u001b[39m\u001b[39mimg\u001b[39m\u001b[39m'\u001b[39m \u001b[39min\u001b[39;00m arquivo:\n\u001b[0;32m      <a href='vscode-notebook-cell:/c%3A/Users/caiom/Documents/GitHub/UNIFESP_imagensbiomedicas/projeto2/analise_projetofinal.ipynb#ch0000004?line=6'>7</a>\u001b[0m         images\u001b[39m.\u001b[39mappend(\n\u001b[0;32m      <a href='vscode-notebook-cell:/c%3A/Users/caiom/Documents/GitHub/UNIFESP_imagensbiomedicas/projeto2/analise_projetofinal.ipynb#ch0000004?line=7'>8</a>\u001b[0m             {\n\u001b[0;32m      <a href='vscode-notebook-cell:/c%3A/Users/caiom/Documents/GitHub/UNIFESP_imagensbiomedicas/projeto2/analise_projetofinal.ipynb#ch0000004?line=8'>9</a>\u001b[0m                 \u001b[39m'\u001b[39m\u001b[39moriginal\u001b[39m\u001b[39m'\u001b[39m: skimage\u001b[39m.\u001b[39mimg_as_float(\n\u001b[1;32m---> <a href='vscode-notebook-cell:/c%3A/Users/caiom/Documents/GitHub/UNIFESP_imagensbiomedicas/projeto2/analise_projetofinal.ipynb#ch0000004?line=9'>10</a>\u001b[0m                     cv2\u001b[39m.\u001b[39mimread(os\u001b[39m.\u001b[39;49mpath\u001b[39m.\u001b[39;49mjoin(\u001b[39mdir\u001b[39;49m, file), \u001b[39m0\u001b[39m)), \n\u001b[0;32m     <a href='vscode-notebook-cell:/c%3A/Users/caiom/Documents/GitHub/UNIFESP_imagensbiomedicas/projeto2/analise_projetofinal.ipynb#ch0000004?line=10'>11</a>\u001b[0m                 \u001b[39m'\u001b[39m\u001b[39mgold_standard\u001b[39m\u001b[39m'\u001b[39m: skimage\u001b[39m.\u001b[39mimg_as_float(\n\u001b[0;32m     <a href='vscode-notebook-cell:/c%3A/Users/caiom/Documents/GitHub/UNIFESP_imagensbiomedicas/projeto2/analise_projetofinal.ipynb#ch0000004?line=11'>12</a>\u001b[0m                     cv2\u001b[39m.\u001b[39mimread(os\u001b[39m.\u001b[39mpath\u001b[39m.\u001b[39mjoin(\u001b[39mdir\u001b[39m, file\u001b[39m.\u001b[39mreplace(\u001b[39m'\u001b[39m\u001b[39mimg\u001b[39m\u001b[39m'\u001b[39m, \u001b[39m'\u001b[39m\u001b[39mgsmab\u001b[39m\u001b[39m'\u001b[39m))), \u001b[39m0\u001b[39m),\n\u001b[0;32m     <a href='vscode-notebook-cell:/c%3A/Users/caiom/Documents/GitHub/UNIFESP_imagensbiomedicas/projeto2/analise_projetofinal.ipynb#ch0000004?line=12'>13</a>\u001b[0m             })\n",
      "File \u001b[1;32mc:\\Users\\caiom\\anaconda3\\lib\\ntpath.py:117\u001b[0m, in \u001b[0;36mjoin\u001b[1;34m(path, *paths)\u001b[0m\n\u001b[0;32m    115\u001b[0m     \u001b[39mreturn\u001b[39;00m result_drive \u001b[39m+\u001b[39m result_path\n\u001b[0;32m    116\u001b[0m \u001b[39mexcept\u001b[39;00m (\u001b[39mTypeError\u001b[39;00m, \u001b[39mAttributeError\u001b[39;00m, \u001b[39mBytesWarning\u001b[39;00m):\n\u001b[1;32m--> 117\u001b[0m     genericpath\u001b[39m.\u001b[39;49m_check_arg_types(\u001b[39m'\u001b[39;49m\u001b[39mjoin\u001b[39;49m\u001b[39m'\u001b[39;49m, path, \u001b[39m*\u001b[39;49mpaths)\n\u001b[0;32m    118\u001b[0m     \u001b[39mraise\u001b[39;00m\n",
      "File \u001b[1;32mc:\\Users\\caiom\\anaconda3\\lib\\genericpath.py:152\u001b[0m, in \u001b[0;36m_check_arg_types\u001b[1;34m(funcname, *args)\u001b[0m\n\u001b[0;32m    150\u001b[0m         hasbytes \u001b[39m=\u001b[39m \u001b[39mTrue\u001b[39;00m\n\u001b[0;32m    151\u001b[0m     \u001b[39melse\u001b[39;00m:\n\u001b[1;32m--> 152\u001b[0m         \u001b[39mraise\u001b[39;00m \u001b[39mTypeError\u001b[39;00m(\u001b[39mf\u001b[39m\u001b[39m'\u001b[39m\u001b[39m{\u001b[39;00mfuncname\u001b[39m}\u001b[39;00m\u001b[39m() argument must be str, bytes, or \u001b[39m\u001b[39m'\u001b[39m\n\u001b[0;32m    153\u001b[0m                         \u001b[39mf\u001b[39m\u001b[39m'\u001b[39m\u001b[39mos.PathLike object, not \u001b[39m\u001b[39m{\u001b[39;00ms\u001b[39m.\u001b[39m\u001b[39m__class__\u001b[39m\u001b[39m.\u001b[39m\u001b[39m__name__\u001b[39m\u001b[39m!r}\u001b[39;00m\u001b[39m'\u001b[39m) \u001b[39mfrom\u001b[39;00m \u001b[39mNone\u001b[39m\n\u001b[0;32m    154\u001b[0m \u001b[39mif\u001b[39;00m hasstr \u001b[39mand\u001b[39;00m hasbytes:\n\u001b[0;32m    155\u001b[0m     \u001b[39mraise\u001b[39;00m \u001b[39mTypeError\u001b[39;00m(\u001b[39m\"\u001b[39m\u001b[39mCan\u001b[39m\u001b[39m'\u001b[39m\u001b[39mt mix strings and bytes in path components\u001b[39m\u001b[39m\"\u001b[39m) \u001b[39mfrom\u001b[39;00m \u001b[39mNone\u001b[39m\n",
      "\u001b[1;31mTypeError\u001b[0m: join() argument must be str, bytes, or os.PathLike object, not 'list'"
     ]
    }
   ],
   "source": [
    "images_path = './imagens/'\n",
    "images = list()\n",
    "\n",
    "for dir, _, files in os.walk(images_path):\n",
    "    for file in files:\n",
    "        if 'img' in arquivo:\n",
    "            images.append(\n",
    "                {\n",
    "                    'original': skimage.img_as_float(\n",
    "                        cv2.imread(os.path.join(dir, file), 0)), \n",
    "                    'gold_standard': skimage.img_as_float(\n",
    "                        cv2.imread(os.path.join(dir, file.replace('img', 'gsmab'))), 0),\n",
    "                })"
   ]
  },
  {
   "cell_type": "code",
   "execution_count": 27,
   "metadata": {},
   "outputs": [
    {
     "data": {
      "text/plain": [
       "[{'original': None, 'gold_standard': None},\n",
       " {'original': None, 'gold_standard': None},\n",
       " {'original': None, 'gold_standard': None},\n",
       " {'original': None, 'gold_standard': None},\n",
       " {'original': None, 'gold_standard': None},\n",
       " {'original': None, 'gold_standard': None},\n",
       " {'original': None, 'gold_standard': None},\n",
       " {'original': None, 'gold_standard': None},\n",
       " {'original': None, 'gold_standard': None},\n",
       " {'original': None, 'gold_standard': None},\n",
       " {'original': None, 'gold_standard': None},\n",
       " {'original': None, 'gold_standard': None},\n",
       " {'original': None, 'gold_standard': None},\n",
       " {'original': None, 'gold_standard': None},\n",
       " {'original': None, 'gold_standard': None},\n",
       " {'original': None, 'gold_standard': None},\n",
       " {'original': None, 'gold_standard': None},\n",
       " {'original': None, 'gold_standard': None},\n",
       " {'original': None, 'gold_standard': None},\n",
       " {'original': None, 'gold_standard': None}]"
      ]
     },
     "execution_count": 27,
     "metadata": {},
     "output_type": "execute_result"
    }
   ],
   "source": [
    "images"
   ]
  },
  {
   "cell_type": "code",
   "execution_count": 19,
   "metadata": {},
   "outputs": [
    {
     "ename": "TypeError",
     "evalue": "Image data of dtype <U8 cannot be converted to float",
     "output_type": "error",
     "traceback": [
      "\u001b[1;31m---------------------------------------------------------------------------\u001b[0m",
      "\u001b[1;31mTypeError\u001b[0m                                 Traceback (most recent call last)",
      "\u001b[1;32mc:\\Users\\caiom\\Documents\\GitHub\\UNIFESP_imagensbiomedicas\\projeto2\\analise_projetofinal.ipynb Célula: 7\u001b[0m in \u001b[0;36m<cell line: 7>\u001b[1;34m()\u001b[0m\n\u001b[0;32m      <a href='vscode-notebook-cell:/c%3A/Users/caiom/Documents/GitHub/UNIFESP_imagensbiomedicas/projeto2/analise_projetofinal.ipynb#ch0000005?line=0'>1</a>\u001b[0m fig \u001b[39m=\u001b[39m plt\u001b[39m.\u001b[39mfigure(\u001b[39m1\u001b[39m, (\u001b[39m10.\u001b[39m, \u001b[39m10.\u001b[39m))\n\u001b[0;32m      <a href='vscode-notebook-cell:/c%3A/Users/caiom/Documents/GitHub/UNIFESP_imagensbiomedicas/projeto2/analise_projetofinal.ipynb#ch0000005?line=1'>2</a>\u001b[0m grid \u001b[39m=\u001b[39m ImageGrid(fig, \u001b[39m111\u001b[39m,\n\u001b[0;32m      <a href='vscode-notebook-cell:/c%3A/Users/caiom/Documents/GitHub/UNIFESP_imagensbiomedicas/projeto2/analise_projetofinal.ipynb#ch0000005?line=2'>3</a>\u001b[0m                  nrows_ncols\u001b[39m=\u001b[39m(\u001b[39m1\u001b[39m, \u001b[39m2\u001b[39m),\n\u001b[0;32m      <a href='vscode-notebook-cell:/c%3A/Users/caiom/Documents/GitHub/UNIFESP_imagensbiomedicas/projeto2/analise_projetofinal.ipynb#ch0000005?line=3'>4</a>\u001b[0m                  axes_pad\u001b[39m=\u001b[39m\u001b[39m0.1\u001b[39m,\n\u001b[0;32m      <a href='vscode-notebook-cell:/c%3A/Users/caiom/Documents/GitHub/UNIFESP_imagensbiomedicas/projeto2/analise_projetofinal.ipynb#ch0000005?line=4'>5</a>\u001b[0m                  )\n\u001b[1;32m----> <a href='vscode-notebook-cell:/c%3A/Users/caiom/Documents/GitHub/UNIFESP_imagensbiomedicas/projeto2/analise_projetofinal.ipynb#ch0000005?line=6'>7</a>\u001b[0m grid[\u001b[39m-\u001b[39;49m\u001b[39m1\u001b[39;49m]\u001b[39m.\u001b[39;49mimshow(images[\u001b[39m0\u001b[39;49m][\u001b[39m'\u001b[39;49m\u001b[39moriginal\u001b[39;49m\u001b[39m'\u001b[39;49m])\n\u001b[0;32m      <a href='vscode-notebook-cell:/c%3A/Users/caiom/Documents/GitHub/UNIFESP_imagensbiomedicas/projeto2/analise_projetofinal.ipynb#ch0000005?line=7'>8</a>\u001b[0m grid[\u001b[39m-\u001b[39m\u001b[39m1\u001b[39m]\u001b[39m.\u001b[39mimshow(images[\u001b[39m0\u001b[39m][\u001b[39m'\u001b[39m\u001b[39mgold_standard\u001b[39m\u001b[39m'\u001b[39m])\n",
      "File \u001b[1;32mc:\\Users\\caiom\\anaconda3\\lib\\site-packages\\matplotlib\\_api\\deprecation.py:456\u001b[0m, in \u001b[0;36mmake_keyword_only.<locals>.wrapper\u001b[1;34m(*args, **kwargs)\u001b[0m\n\u001b[0;32m    450\u001b[0m \u001b[39mif\u001b[39;00m \u001b[39mlen\u001b[39m(args) \u001b[39m>\u001b[39m name_idx:\n\u001b[0;32m    451\u001b[0m     warn_deprecated(\n\u001b[0;32m    452\u001b[0m         since, message\u001b[39m=\u001b[39m\u001b[39m\"\u001b[39m\u001b[39mPassing the \u001b[39m\u001b[39m%(name)s\u001b[39;00m\u001b[39m \u001b[39m\u001b[39m%(obj_type)s\u001b[39;00m\u001b[39m \u001b[39m\u001b[39m\"\u001b[39m\n\u001b[0;32m    453\u001b[0m         \u001b[39m\"\u001b[39m\u001b[39mpositionally is deprecated since Matplotlib \u001b[39m\u001b[39m%(since)s\u001b[39;00m\u001b[39m; the \u001b[39m\u001b[39m\"\u001b[39m\n\u001b[0;32m    454\u001b[0m         \u001b[39m\"\u001b[39m\u001b[39mparameter will become keyword-only \u001b[39m\u001b[39m%(removal)s\u001b[39;00m\u001b[39m.\u001b[39m\u001b[39m\"\u001b[39m,\n\u001b[0;32m    455\u001b[0m         name\u001b[39m=\u001b[39mname, obj_type\u001b[39m=\u001b[39m\u001b[39mf\u001b[39m\u001b[39m\"\u001b[39m\u001b[39mparameter of \u001b[39m\u001b[39m{\u001b[39;00mfunc\u001b[39m.\u001b[39m\u001b[39m__name__\u001b[39m\u001b[39m}\u001b[39;00m\u001b[39m()\u001b[39m\u001b[39m\"\u001b[39m)\n\u001b[1;32m--> 456\u001b[0m \u001b[39mreturn\u001b[39;00m func(\u001b[39m*\u001b[39margs, \u001b[39m*\u001b[39m\u001b[39m*\u001b[39mkwargs)\n",
      "File \u001b[1;32mc:\\Users\\caiom\\anaconda3\\lib\\site-packages\\matplotlib\\__init__.py:1412\u001b[0m, in \u001b[0;36m_preprocess_data.<locals>.inner\u001b[1;34m(ax, data, *args, **kwargs)\u001b[0m\n\u001b[0;32m   1409\u001b[0m \u001b[39m@functools\u001b[39m\u001b[39m.\u001b[39mwraps(func)\n\u001b[0;32m   1410\u001b[0m \u001b[39mdef\u001b[39;00m \u001b[39minner\u001b[39m(ax, \u001b[39m*\u001b[39margs, data\u001b[39m=\u001b[39m\u001b[39mNone\u001b[39;00m, \u001b[39m*\u001b[39m\u001b[39m*\u001b[39mkwargs):\n\u001b[0;32m   1411\u001b[0m     \u001b[39mif\u001b[39;00m data \u001b[39mis\u001b[39;00m \u001b[39mNone\u001b[39;00m:\n\u001b[1;32m-> 1412\u001b[0m         \u001b[39mreturn\u001b[39;00m func(ax, \u001b[39m*\u001b[39m\u001b[39mmap\u001b[39m(sanitize_sequence, args), \u001b[39m*\u001b[39m\u001b[39m*\u001b[39mkwargs)\n\u001b[0;32m   1414\u001b[0m     bound \u001b[39m=\u001b[39m new_sig\u001b[39m.\u001b[39mbind(ax, \u001b[39m*\u001b[39margs, \u001b[39m*\u001b[39m\u001b[39m*\u001b[39mkwargs)\n\u001b[0;32m   1415\u001b[0m     auto_label \u001b[39m=\u001b[39m (bound\u001b[39m.\u001b[39marguments\u001b[39m.\u001b[39mget(label_namer)\n\u001b[0;32m   1416\u001b[0m                   \u001b[39mor\u001b[39;00m bound\u001b[39m.\u001b[39mkwargs\u001b[39m.\u001b[39mget(label_namer))\n",
      "File \u001b[1;32mc:\\Users\\caiom\\anaconda3\\lib\\site-packages\\matplotlib\\axes\\_axes.py:5488\u001b[0m, in \u001b[0;36mAxes.imshow\u001b[1;34m(self, X, cmap, norm, aspect, interpolation, alpha, vmin, vmax, origin, extent, interpolation_stage, filternorm, filterrad, resample, url, **kwargs)\u001b[0m\n\u001b[0;32m   5481\u001b[0m \u001b[39mself\u001b[39m\u001b[39m.\u001b[39mset_aspect(aspect)\n\u001b[0;32m   5482\u001b[0m im \u001b[39m=\u001b[39m mimage\u001b[39m.\u001b[39mAxesImage(\u001b[39mself\u001b[39m, cmap, norm, interpolation,\n\u001b[0;32m   5483\u001b[0m                       origin, extent, filternorm\u001b[39m=\u001b[39mfilternorm,\n\u001b[0;32m   5484\u001b[0m                       filterrad\u001b[39m=\u001b[39mfilterrad, resample\u001b[39m=\u001b[39mresample,\n\u001b[0;32m   5485\u001b[0m                       interpolation_stage\u001b[39m=\u001b[39minterpolation_stage,\n\u001b[0;32m   5486\u001b[0m                       \u001b[39m*\u001b[39m\u001b[39m*\u001b[39mkwargs)\n\u001b[1;32m-> 5488\u001b[0m im\u001b[39m.\u001b[39;49mset_data(X)\n\u001b[0;32m   5489\u001b[0m im\u001b[39m.\u001b[39mset_alpha(alpha)\n\u001b[0;32m   5490\u001b[0m \u001b[39mif\u001b[39;00m im\u001b[39m.\u001b[39mget_clip_path() \u001b[39mis\u001b[39;00m \u001b[39mNone\u001b[39;00m:\n\u001b[0;32m   5491\u001b[0m     \u001b[39m# image does not already have clipping set, clip to axes patch\u001b[39;00m\n",
      "File \u001b[1;32mc:\\Users\\caiom\\anaconda3\\lib\\site-packages\\matplotlib\\image.py:706\u001b[0m, in \u001b[0;36m_ImageBase.set_data\u001b[1;34m(self, A)\u001b[0m\n\u001b[0;32m    702\u001b[0m \u001b[39mself\u001b[39m\u001b[39m.\u001b[39m_A \u001b[39m=\u001b[39m cbook\u001b[39m.\u001b[39msafe_masked_invalid(A, copy\u001b[39m=\u001b[39m\u001b[39mTrue\u001b[39;00m)\n\u001b[0;32m    704\u001b[0m \u001b[39mif\u001b[39;00m (\u001b[39mself\u001b[39m\u001b[39m.\u001b[39m_A\u001b[39m.\u001b[39mdtype \u001b[39m!=\u001b[39m np\u001b[39m.\u001b[39muint8 \u001b[39mand\u001b[39;00m\n\u001b[0;32m    705\u001b[0m         \u001b[39mnot\u001b[39;00m np\u001b[39m.\u001b[39mcan_cast(\u001b[39mself\u001b[39m\u001b[39m.\u001b[39m_A\u001b[39m.\u001b[39mdtype, \u001b[39mfloat\u001b[39m, \u001b[39m\"\u001b[39m\u001b[39msame_kind\u001b[39m\u001b[39m\"\u001b[39m)):\n\u001b[1;32m--> 706\u001b[0m     \u001b[39mraise\u001b[39;00m \u001b[39mTypeError\u001b[39;00m(\u001b[39m\"\u001b[39m\u001b[39mImage data of dtype \u001b[39m\u001b[39m{}\u001b[39;00m\u001b[39m cannot be converted to \u001b[39m\u001b[39m\"\u001b[39m\n\u001b[0;32m    707\u001b[0m                     \u001b[39m\"\u001b[39m\u001b[39mfloat\u001b[39m\u001b[39m\"\u001b[39m\u001b[39m.\u001b[39mformat(\u001b[39mself\u001b[39m\u001b[39m.\u001b[39m_A\u001b[39m.\u001b[39mdtype))\n\u001b[0;32m    709\u001b[0m \u001b[39mif\u001b[39;00m \u001b[39mself\u001b[39m\u001b[39m.\u001b[39m_A\u001b[39m.\u001b[39mndim \u001b[39m==\u001b[39m \u001b[39m3\u001b[39m \u001b[39mand\u001b[39;00m \u001b[39mself\u001b[39m\u001b[39m.\u001b[39m_A\u001b[39m.\u001b[39mshape[\u001b[39m-\u001b[39m\u001b[39m1\u001b[39m] \u001b[39m==\u001b[39m \u001b[39m1\u001b[39m:\n\u001b[0;32m    710\u001b[0m     \u001b[39m# If just one dimension assume scalar and apply colormap\u001b[39;00m\n\u001b[0;32m    711\u001b[0m     \u001b[39mself\u001b[39m\u001b[39m.\u001b[39m_A \u001b[39m=\u001b[39m \u001b[39mself\u001b[39m\u001b[39m.\u001b[39m_A[:, :, \u001b[39m0\u001b[39m]\n",
      "\u001b[1;31mTypeError\u001b[0m: Image data of dtype <U8 cannot be converted to float"
     ]
    },
    {
     "data": {
      "image/png": "[encoded data removed]",
      "text/plain": [
       "<Figure size 720x720 with 4 Axes>"
      ]
     },
     "metadata": {
      "needs_background": "light"
     },
     "output_type": "display_data"
    }
   ],
   "source": [
    "fig = plt.figure(1, (10., 10.))\n",
    "grid = ImageGrid(fig, 111,\n",
    "                 nrows_ncols=(1, 2),\n",
    "                 axes_pad=0.1,\n",
    "                 )\n",
    "\n",
    "grid[0].imshow(images[0]['original'])\n",
    "grid[1].imshow(images[0]['gold_standard'])"
   ]
  },
  {
   "cell_type": "code",
   "execution_count": null,
   "metadata": {},
   "outputs": [],
   "source": []
  }
 ],
 "metadata": {
  "kernelspec": {
   "display_name": "Python 3.9.12 ('base')",
   "language": "python",
   "name": "python3"
  },
  "language_info": {
   "codemirror_mode": {
    "name": "ipython",
    "version": 3
   },
   "file_extension": ".py",
   "mimetype": "text/x-python",
   "name": "python",
   "nbconvert_exporter": "python",
   "pygments_lexer": "ipython3",
   "version": "3.9.12"
  },
  "orig_nbformat": 4,
  "vscode": {
   "interpreter": {
    "hash": "5fcb27bd1d8dab5fbcfc3d8156b90ad467145f1b75a276166bff0e4f18f5c60e"
   }
  }
 },
 "nbformat": 4,
 "nbformat_minor": 2
}
