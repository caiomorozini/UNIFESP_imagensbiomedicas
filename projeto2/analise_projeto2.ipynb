{
 "cells": [
  {
   "cell_type": "markdown",
   "metadata": {},
   "source": [
    "# Este código se refere ao Projeto Final da disciplina de Imagens Biomédicas, disciplina oferecida pela UNIFESP.\n"
   ]
  },
  {
   "cell_type": "markdown",
   "metadata": {},
   "source": [
    "Um Instituto renomado no Brasil faz todos os tipos de investigações,\n",
    "intervenções, tratamentos e pesquisas relacionados ao coração. Dentre\n",
    "eles, estão as investigações das coronárias, estas investigações são\n",
    "realizadas com um equipamento chamado Ultrassom Intravascular (IVUS).\n",
    "Este equipamento adquire imagens de seções transversais da coronária\n",
    "pela inserção e movimento de retirada de um cateter (Figura). Contudo,\n",
    "além de não fornecer informações objetivas, como dimensões, este\n",
    "equipamento fornece centenas de imagens de uma mesma seção, o que\n",
    "dificulta muito a análise por segmentação manual.\n",
    "O pesquisador de cardiologia, quem usa este equipamento para\n",
    "orientar doutorandos em medicina, pediu a criação de um aplicativo para\n",
    "esta tarefa. O objetivo é fazer a segmentação e cálculo da área da borda\n",
    "media-adventícia (parede externa do vaso) em imagens de IVUS."
   ]
  },
  {
   "cell_type": "markdown",
   "metadata": {},
   "source": [
    "- Elaborar um método automático ou semiautomático, que faça a\n",
    "segmentação do lúmen em imagens de IVUS(Figura Abaixo em azul).\n",
    "Divida o método em 3 partes, Pré-processamento, Extração de\n",
    "Características e Pós-processamento.\n",
    "- Avaliar este método de acordo com a metodologia de VP(%), FP(%),\n",
    "FN(%). Adicionalmente, usar as métricas Overlap Dice(OD(%)) e\n",
    "Overlap Ratio(OR(%)) descritas abaixo. Para a avaliação, usar 20\n",
    "imagens de IVUS com seus respectivos GoldStandads. Img0.pgm até\n",
    "img19.pgm com gsmab0.pgm até gsmab19.pgm.\n",
    "- Resultados Projeto → A nota referente aos resultados do trabalho\n",
    "será equivalente ao OR (%)"
   ]
  },
  {
   "cell_type": "markdown",
   "metadata": {},
   "source": [
    "---\n",
    "## <center>Importando bibliotecas e organizando estrutura de armazenamento das imagens<center>\n"
   ]
  },
  {
   "cell_type": "code",
   "execution_count": null,
   "metadata": {},
   "outputs": [],
   "source": [
    "%%capture\n",
    "%pip install opencv-python\n",
    "%pip install scikit-image\n",
    "%pip install numpy\n",
    "%pip install matplotlib\n",
    "%pip install pandas"
   ]
  },
  {
   "cell_type": "code",
   "execution_count": null,
   "metadata": {},
   "outputs": [],
   "source": [
    "import cv2\n",
    "import scipy\n",
    "import skimage\n",
    "import scipy.signal\n",
    "import numpy as np\n",
    "import matplotlib.pyplot as plt\n",
    "from mpl_toolkits.axes_grid1 import ImageGrid\n",
    "import os\n",
    "from skimage.segmentation import clear_border\n",
    "from scipy import ndimage as ndi\n",
    "import pandas as pd\n",
    "\n",
    "%matplotlib inline"
   ]
  },
  {
   "cell_type": "code",
   "execution_count": null,
   "metadata": {},
   "outputs": [],
   "source": [
    "images_path = './imagens/'\n",
    "images = list()\n",
    "\n",
    "for dir, _, files in os.walk(images_path):\n",
    "    for file in files:\n",
    "        if 'img' in file:\n",
    "            images.append(\n",
    "                {\n",
    "                    'original': skimage.img_as_float(\n",
    "                        cv2.imread(os.path.join(dir, file), 0)),\n",
    "                    'original_flag1': skimage.img_as_float(cv2.imread(os.path.join(dir, file), 1)),\n",
    "                    'gold_standard': skimage.img_as_float(\n",
    "                        cv2.imread(os.path.join(dir, file.replace('img', 'gsmab'))), 0),\n",
    "                    'name': file,\n",
    "                    'original_path': os.path.join(dir, file),\n",
    "                    'gold_standard_name': file.replace('img', 'gsmab'),\n",
    "\n",
    "                })"
   ]
  },
  {
   "cell_type": "markdown",
   "metadata": {},
   "source": [
    "\n",
    "## <center>Mostrando os 5 primeiros grupos de imagens<center>\n",
    "---"
   ]
  },
  {
   "cell_type": "code",
   "execution_count": null,
   "metadata": {},
   "outputs": [],
   "source": [
    "fig = plt.figure(1, (50., 40.))\n",
    "grid = ImageGrid(fig, 111,\n",
    "                 nrows_ncols=(5, 2),\n",
    "                 axes_pad=0.1,\n",
    "                 )\n",
    "for index, img in enumerate(images[0:5]):\n",
    "    grid[0+(index*2)].imshow(images[index]['original'])\n",
    "    grid[(index*2)+1].imshow(images[index]['gold_standard'])"
   ]
  },
  {
   "cell_type": "markdown",
   "metadata": {},
   "source": [
    "---\n",
    "## <center>PRÉ-PROCESSAMENTO</center>\n",
    "---"
   ]
  },
  {
   "cell_type": "markdown",
   "metadata": {},
   "source": [
    "### CRIANDO FUNÇÃO PARA FILTRAGEM"
   ]
  },
  {
   "cell_type": "code",
   "execution_count": null,
   "metadata": {},
   "outputs": [],
   "source": [
    "def fazer_mascara_ideal_2D(m, n, fc):\n",
    "    h_ideal = np.zeros((m,n), complex)\n",
    "    d0 = fc * (m/2)\n",
    "    for l in range(m):\n",
    "        for c in range(n):\n",
    "            dist_c = c - (n/2)\n",
    "            dist_l = l - (m/2)\n",
    "            d = np.sqrt((dist_c ** 2) + (dist_l ** 2))\n",
    "            if d < d0:\n",
    "                h_ideal[l,c] = 1 + 0j\n",
    "    return h_ideal\n",
    "def fazer_mascara_gaussiana_2d(m, n, fc):\n",
    "    h_gauss = np.zeros((m,n), complex)\n",
    "    d0 = fc * (m/2)\n",
    "    for l in range(m):\n",
    "        for c in range(n):\n",
    "            dist_c = c - (n/2)\n",
    "            dist_l = l - (m/2)\n",
    "            d = np.sqrt((dist_c ** 2) + (dist_l ** 2))\n",
    "            h_gauss[l,c] = np.exp(-((d**2)/((2*d0) ** 2))) + 0j\n",
    "    return h_gauss"
   ]
  },
  {
   "cell_type": "markdown",
   "metadata": {},
   "source": [
    "### APLICANDO FILTROS"
   ]
  },
  {
   "cell_type": "code",
   "execution_count": null,
   "metadata": {},
   "outputs": [],
   "source": [
    "for image in images:\n",
    "    name = image['name']\n",
    "    print(f'Filtrando: {name}')\n",
    "    # Capturando imagem\n",
    "    img_original = image['original']\n",
    "    # Capturando as dimensões da imagem\n",
    "    (M,N) = np.shape(img_original)\n",
    "    # Passando a imagem para domínio da frequência\n",
    "    frequency_pulse = np.fft.fft2(img_original)\n",
    "    # Espelhando frequência em 0\n",
    "    shift_frequency = np.fft.fftshift(frequency_pulse)\n",
    "    # Fazendo mascara guassiana\n",
    "    mascara = fazer_mascara_gaussiana_2d(M,N, 0.15)\n",
    "    # Aplicando a mascara\n",
    "    img_frequency_filtered = shift_frequency * mascara\n",
    "    # Transformada inversa\n",
    "    image['img_filtered'] = np.fft.ifft2(img_frequency_filtered)"
   ]
  },
  {
   "cell_type": "markdown",
   "metadata": {},
   "source": [
    "---\n",
    "## <center>EXTRAÇÃO DE CARACTERÍSTICAS<center>\n",
    "---"
   ]
  },
  {
   "cell_type": "markdown",
   "metadata": {},
   "source": [
    "### CRIANDO FUNÇÃO DE SEGMENTAÇÃO SEMI-AUTOMÁTICA"
   ]
  },
  {
   "cell_type": "code",
   "execution_count": null,
   "metadata": {},
   "outputs": [],
   "source": [
    "def fazer_segmentacao_semente(stats: dict, image: dict):\n",
    "    \"\"\"_summary_\n",
    "\n",
    "    Args:\n",
    "        lst_x (_type_): _description_\n",
    "        lst_y (_type_): _description_\n",
    "        io (_type_): _description_\n",
    "\n",
    "    Returns:\n",
    "        _type_: _description_\n",
    "    \"\"\"\n",
    "    lim_inf = stats.get('lim_inf')\n",
    "    lim_sup = stats.get('lim_sup')\n",
    "    seed_col = stats.get('seed_col')\n",
    "    seed_lin = stats.get('seed_lin')\n",
    "\n",
    "    io = image['original']\n",
    "    img = image['original_flag1']\n",
    "\n",
    "    lst_x, lst_y = list(), list()\n",
    "    lst_x.append(seed_col)\n",
    "    lst_y.append(seed_lin)\n",
    "    # Criando uma imagem vazia\n",
    "    obj = skimage.img_as_float(\n",
    "        np.zeros(io.shape, np.uint8)\n",
    "        )\n",
    "    obj[seed_lin, seed_col] = 1\n",
    "    cv2.line(img, (seed_col, seed_lin), (seed_col, seed_lin), (255, 0, 0), 5)\n",
    "    (tamanho_fila, ) = np.shape(lst_y)\n",
    "\n",
    "    while tamanho_fila > 0:\n",
    "        seed_col = lst_x[0]\n",
    "        seed_lin = lst_y[0]\n",
    "\n",
    "        while (seed_col+1 > (N-1) or seed_col-1 < 0 or seed_lin+1>(M-1) or seed_lin-1 < 0):\n",
    "            lst_x.remove(seed_col)\n",
    "            lst_y.remove(seed_lin)\n",
    "            (tamanho_file, ) = np.shape(lst_y)\n",
    "            if tamanho_file==0:\n",
    "                break\n",
    "            else:\n",
    "                seed_col = lst_x[0]\n",
    "                seed_lin = lst_y[0]\n",
    "\n",
    "        # Direita\n",
    "        if (obj[seed_lin, seed_col+1] == 0) and (io[seed_lin, seed_col+1]>lim_inf and io[seed_lin, seed_col+1]<lim_sup):\n",
    "\n",
    "            lst_x.append(seed_col+1)\n",
    "            lst_y.append(seed_lin)\n",
    "\n",
    "            cv2.line(img,(seed_col+1, seed_lin), (seed_col+1, seed_lin), (255,0,0), 5)\n",
    "            obj[seed_lin, seed_col+1] = 1\n",
    "\n",
    "        # Baixo\n",
    "        if (\n",
    "            obj[seed_lin+1, seed_col] == 0 and\n",
    "            (io[seed_lin+1, seed_col]>lim_inf) and\n",
    "            io[seed_lin+1, seed_col]< lim_sup\n",
    "            ):\n",
    "            lst_x.append(seed_col)\n",
    "            lst_y.append(seed_lin+1)\n",
    "            cv2.line(img, (seed_col, seed_lin+1), (seed_col, seed_lin+1), (255,0,0), 5)\n",
    "            obj[seed_lin+1, seed_col] = 1\n",
    "\n",
    "        # Cima\n",
    "        if (\n",
    "            obj[seed_lin-1, seed_col] == 0 and (io[seed_lin-1, seed_col]>lim_inf) and io[seed_lin, seed_col-1]<lim_sup\n",
    "        ):\n",
    "            lst_x.append(seed_col)\n",
    "            lst_y.append(seed_lin-1)\n",
    "\n",
    "            cv2.line(img, (seed_col, seed_lin-1), (seed_col, seed_lin-1), (255,0,0), 5)\n",
    "            obj[seed_lin-1, seed_col] = 1\n",
    "\n",
    "        # Esquerda\n",
    "        if (\n",
    "            obj[seed_lin, seed_col-1] == 0 and (io[seed_lin, seed_col-1]>lim_inf) and io[seed_lin, seed_col-1]<lim_sup\n",
    "        ):\n",
    "            lst_x.append(seed_col-1)\n",
    "            lst_y.append(seed_lin)\n",
    "\n",
    "            cv2.line(img, (seed_col-1, seed_lin), (seed_col-1, seed_lin), (255,0,0), 5)\n",
    "            obj[seed_lin-1, seed_col] = 1\n",
    "        if tamanho_fila == 0:\n",
    "            break\n",
    "        else:\n",
    "            lst_x.remove(seed_col)\n",
    "            lst_y.remove(seed_lin)\n",
    "            (tamanho_fila, ) = np.shape(lst_y)\n",
    "    return obj"
   ]
  },
  {
   "cell_type": "markdown",
   "metadata": {},
   "source": [
    "### CAPTURANDO ROI E SEGMENTANDO"
   ]
  },
  {
   "cell_type": "code",
   "execution_count": null,
   "metadata": {},
   "outputs": [],
   "source": [
    "%%capture\n",
    "for img in images:\n",
    "    name = img['name']\n",
    "    data = img['original']\n",
    "    roi = cv2.selectROI(img=data, windowName=name)\n",
    "    cv2.destroyAllWindows()\n",
    "    schema = dict()\n",
    "    schema['roi'] = roi\n",
    "    schema['cmin'] = roi[0]\n",
    "    schema['lmin'] = roi[1]\n",
    "    schema['cmax'] = roi[0] + roi[2]\n",
    "    schema['lmax'] = roi[1] + roi[3]\n",
    "    img['roi_stats'] = schema\n"
   ]
  },
  {
   "cell_type": "code",
   "execution_count": null,
   "metadata": {},
   "outputs": [],
   "source": [
    "for index, img in enumerate(images):\n",
    "    name = img['name']\n",
    "    if index > 5:\n",
    "        break\n",
    "    roi_stats = img['roi_stats']\n",
    "    roi, lmin, lmax, cmin, cmax = roi_stats['roi'], roi_stats['lmin'], roi_stats['lmax'], roi_stats['cmin'], roi_stats['cmax']\n",
    "    print(f'Segmentando {name}')\n",
    "    data = img['original']\n",
    "    stats = dict()\n",
    "    stats['media'] = np.mean(data[lmin:lmax, cmin:cmax])\n",
    "    stats['dp'] = np.std(data[lmin:lmax, cmin:cmax])\n",
    "    stats['lim_sup'] = stats.get('media') + 3*stats.get('dp')\n",
    "    stats['lim_inf'] = stats.get('media') - 3*stats.get('dp')\n",
    "    stats['seed_lin'] = int(lmin + np.round(roi[3]/2))\n",
    "    stats['seed_col'] = int(cmin + np.round(roi[2]/2))\n",
    "    img['img_segmented'] = fazer_segmentacao_semente(stats, img)\n",
    "    img['stats'] = stats\n"
   ]
  },
  {
   "cell_type": "markdown",
   "metadata": {},
   "source": [
    "### VERIFICANDO ESTRUTURA GERADA"
   ]
  },
  {
   "cell_type": "code",
   "execution_count": null,
   "metadata": {},
   "outputs": [],
   "source": [
    "print(images[0]['name'])\n",
    "images[0]['stats']"
   ]
  },
  {
   "cell_type": "markdown",
   "metadata": {},
   "source": [
    "### GERANDO 5 PRIMEIRAS SEGMENTAÇÕES"
   ]
  },
  {
   "cell_type": "code",
   "execution_count": null,
   "metadata": {},
   "outputs": [],
   "source": [
    "figs_segmented = plt.figure(1, (50., 40.))\n",
    "grid = ImageGrid(figs_segmented, 111,\n",
    "                nrows_ncols=(5, 2),\n",
    "                axes_pad=0.1,\n",
    "                )\n",
    "for index, img in enumerate(images[0:5]):\n",
    "    if img.get('img_segmented') is not None:\n",
    "        name = img['name']\n",
    "        data = img['img_segmented']\n",
    "        grid[0+(index*2)].imshow(img.get('img_segmented'), cmap='gray')\n",
    "        grid[(index*2)+1].imshow(img.get('original_flag1'), cmap='gray')"
   ]
  },
  {
   "cell_type": "markdown",
   "metadata": {},
   "source": [
    "---\n",
    "## <center>PÓS-PROCESSAMENTO<center>\n",
    "---"
   ]
  },
  {
   "cell_type": "markdown",
   "metadata": {},
   "source": [
    "### GERANDO CÍRCULO DE RAIO 50 POSICIONADO EM (200,200)"
   ]
  },
  {
   "cell_type": "code",
   "execution_count": null,
   "metadata": {},
   "outputs": [],
   "source": [
    "posicao_central = (200,200)\n",
    "x, y = np.ogrid[0:N, 0:M]\n",
    "circle_mask = (x - 200) ** 2 + (y - 200) ** 2 <= 50 ** 2\n",
    "plt.imshow(circle_mask, cmap='gray')"
   ]
  },
  {
   "cell_type": "markdown",
   "metadata": {},
   "source": [
    "### PREENCHENDO CÍRCULO NA IMAGEM SEGMENTADA"
   ]
  },
  {
   "cell_type": "code",
   "execution_count": null,
   "metadata": {},
   "outputs": [],
   "source": [
    "figs_mask = plt.figure(1, (50., 40.))\n",
    "grid = ImageGrid(figs_mask, 111,\n",
    "                nrows_ncols=(1, 5),\n",
    "                axes_pad=0.1,\n",
    "                )\n",
    "for index, image in enumerate(images):\n",
    "    if image.get('img_segmented') is not None:\n",
    "        img_segmented = image['img_segmented']\n",
    "        img_segmented[circle_mask] = img_segmented[circle_mask] + 0.01\n",
    "        image['mask'] = img_segmented > 0\n",
    "        if index < 5:\n",
    "            name = img['name']\n",
    "            data = img['img_segmented']\n",
    "            grid[index].imshow(image['mask'], cmap='gray')"
   ]
  },
  {
   "cell_type": "markdown",
   "metadata": {},
   "source": [
    "### APLICANDO PREENCHIMENTO DE BURACOS E LIMPANDO BORDAS"
   ]
  },
  {
   "cell_type": "code",
   "execution_count": null,
   "metadata": {},
   "outputs": [],
   "source": [
    "figs_mask_bord = plt.figure(1, (50., 40.))\n",
    "grid = ImageGrid(figs_mask_bord, 111,\n",
    "                nrows_ncols=(1, 5),\n",
    "                axes_pad=0.1,\n",
    "                )\n",
    "for index, image in enumerate(images):\n",
    "    if image.get('mask') is not None:\n",
    "        mask = np.vectorize(ndi.binary_fill_holes, signature='(n,m)->(n,m)')(image['mask'])\n",
    "        mask_bord = np.vectorize(clear_border, signature='(n,m)->(n,m)')(mask)\n",
    "        image['mask_bord'] = mask_bord\n",
    "        if index < 5:\n",
    "            name = img['name']\n",
    "            data = img['img_segmented']\n",
    "            grid[index].imshow(image['mask_bord'], cmap='gray')\n"
   ]
  },
  {
   "cell_type": "markdown",
   "metadata": {},
   "source": [
    "### CRIANDO MORFOLOGIA DE DISCO"
   ]
  },
  {
   "cell_type": "code",
   "execution_count": null,
   "metadata": {},
   "outputs": [],
   "source": []
  },
  {
   "cell_type": "code",
   "execution_count": null,
   "metadata": {},
   "outputs": [],
   "source": [
    "figs_compare = plt.figure(1, (10., 30.))\n",
    "plt.title('Comparação gold_standard x resultado')\n",
    "grid = ImageGrid(figs_compare, 111,\n",
    "                nrows_ncols=(5, 2),\n",
    "                axes_pad=0.1,\n",
    "                )\n",
    "                \n",
    "for index, image in enumerate(images):\n",
    "    if image.get('mask_bord') is not None:\n",
    "        disk_morf = skimage.morphology.disk(10)\n",
    "        # Aplicando fechamento binário\n",
    "        image['response'] = skimage.morphology.binary_closing(image['mask_bord'], disk_morf)\n",
    "        # Plotando 5 primeiras imagens comparando com gold_standard\n",
    "        if index < 5:\n",
    "            name = img['name']\n",
    "            grid[0+(index*2)].imshow(image['gold_standard'], cmap='gray')\n",
    "            grid[(index*2)+1].imshow(image['response'], cmap='gray')"
   ]
  },
  {
   "cell_type": "markdown",
   "metadata": {},
   "source": [
    "---\n",
    "## <center>ETAPA DE AVALIAÇÃO<center>\n",
    "---"
   ]
  },
  {
   "cell_type": "code",
   "execution_count": null,
   "metadata": {},
   "outputs": [],
   "source": [
    "def fazer_avaliacao_segmentacao(objeto_segmentado: np.array, gold_standard: np.array) -> tuple:\n",
    "    objeto_segmentado: np.array = objeto_segmentado > 0.5\n",
    "    gold_standard: np.array = gold_standard > 0.5\n",
    "    (M, N) = np.shape(objeto_segmentado)\n",
    "    area_imagem = M*N\n",
    "    area_objeto_segmentado = np.sum(objeto_segmentado)\n",
    "    area_objeto_gold_standard = np.sum(gold_standard)\n",
    "    area_interseccao = np.sum(objeto_segmentado & gold_standard)\n",
    "    VP = 100 * (area_interseccao / area_objeto_gold_standard)\n",
    "    FP = 100 * (area_objeto_segmentado - area_interseccao) / (area_imagem-area_objeto_gold_standard)\n",
    "    FN = 100 * (area_objeto_gold_standard - area_interseccao) / area_imagem\n",
    "    OD = (200*VP)/((2*VP)+FP+FN)\n",
    "    OR = (100*VP)/(VP+FP+FN)\n",
    "    return (VP, FP, FN, OD, OR)"
   ]
  },
  {
   "cell_type": "code",
   "execution_count": null,
   "metadata": {},
   "outputs": [],
   "source": [
    "metrics = pd.DataFrame(columns=['VP', 'FP', 'FN', 'OD', 'OR'])"
   ]
  },
  {
   "cell_type": "code",
   "execution_count": null,
   "metadata": {},
   "outputs": [],
   "source": [
    "for img in images:\n",
    "    if img.get('response') is not None:\n",
    "        (VP, FP, FN, OD, OR) = fazer_avaliacao_segmentacao(img.get('response'), img.get('gold_standard'))\n",
    "        name = img['name']\n",
    "        metrics[name] = [VP, FP, FN, OD, OR]"
   ]
  },
  {
   "cell_type": "code",
   "execution_count": null,
   "metadata": {},
   "outputs": [],
   "source": [
    "metrics"
   ]
  },
  {
   "cell_type": "code",
   "execution_count": null,
   "metadata": {},
   "outputs": [],
   "source": [
    "OD"
   ]
  },
  {
   "cell_type": "code",
   "execution_count": null,
   "metadata": {},
   "outputs": [],
   "source": [
    "OR = (100*VP)/(VP+FP+FN)"
   ]
  },
  {
   "cell_type": "code",
   "execution_count": null,
   "metadata": {},
   "outputs": [],
   "source": [
    "OR"
   ]
  },
  {
   "cell_type": "code",
   "execution_count": null,
   "metadata": {},
   "outputs": [],
   "source": []
  },
  {
   "cell_type": "code",
   "execution_count": null,
   "metadata": {},
   "outputs": [],
   "source": []
  }
 ],
 "metadata": {
  "kernelspec": {
   "display_name": "Python 3.10.4 ('venv': venv)",
   "language": "python",
   "name": "python3"
  },
  "language_info": {
   "codemirror_mode": {
    "name": "ipython",
    "version": 3
   },
   "file_extension": ".py",
   "mimetype": "text/x-python",
   "name": "python",
   "nbconvert_exporter": "python",
   "pygments_lexer": "ipython3",
   "version": "3.10.4"
  },
  "orig_nbformat": 4,
  "vscode": {
   "interpreter": {
    "hash": "3c1da877e349d946fe67a841ae2503f2b731cf493da4a4a6ced6ac6ed3541e76"
   }
  }
 },
 "nbformat": 4,
 "nbformat_minor": 2
}
